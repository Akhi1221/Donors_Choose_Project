{
 "cells": [
  {
   "cell_type": "code",
   "execution_count": 200,
   "metadata": {},
   "outputs": [],
   "source": [
    "from sklearn.datasets import load_boston\n",
    "boston = load_boston()"
   ]
  },
  {
   "cell_type": "code",
   "execution_count": 201,
   "metadata": {},
   "outputs": [
    {
     "name": "stdout",
     "output_type": "stream",
     "text": [
      "(506, 13)\n"
     ]
    }
   ],
   "source": [
    "print(boston.data.shape)"
   ]
  },
  {
   "cell_type": "code",
   "execution_count": 202,
   "metadata": {
    "scrolled": true
   },
   "outputs": [
    {
     "name": "stdout",
     "output_type": "stream",
     "text": [
      "['CRIM' 'ZN' 'INDUS' 'CHAS' 'NOX' 'RM' 'AGE' 'DIS' 'RAD' 'TAX' 'PTRATIO'\n",
      " 'B' 'LSTAT']\n"
     ]
    }
   ],
   "source": [
    "print(boston.feature_names)"
   ]
  },
  {
   "cell_type": "code",
   "execution_count": 203,
   "metadata": {},
   "outputs": [
    {
     "name": "stdout",
     "output_type": "stream",
     "text": [
      "Boston House Prices dataset\n",
      "===========================\n",
      "\n",
      "Notes\n",
      "------\n",
      "Data Set Characteristics:  \n",
      "\n",
      "    :Number of Instances: 506 \n",
      "\n",
      "    :Number of Attributes: 13 numeric/categorical predictive\n",
      "    \n",
      "    :Median Value (attribute 14) is usually the target\n",
      "\n",
      "    :Attribute Information (in order):\n",
      "        - CRIM     per capita crime rate by town\n",
      "        - ZN       proportion of residential land zoned for lots over 25,000 sq.ft.\n",
      "        - INDUS    proportion of non-retail business acres per town\n",
      "        - CHAS     Charles River dummy variable (= 1 if tract bounds river; 0 otherwise)\n",
      "        - NOX      nitric oxides concentration (parts per 10 million)\n",
      "        - RM       average number of rooms per dwelling\n",
      "        - AGE      proportion of owner-occupied units built prior to 1940\n",
      "        - DIS      weighted distances to five Boston employment centres\n",
      "        - RAD      index of accessibility to radial highways\n",
      "        - TAX      full-value property-tax rate per $10,000\n",
      "        - PTRATIO  pupil-teacher ratio by town\n",
      "        - B        1000(Bk - 0.63)^2 where Bk is the proportion of blacks by town\n",
      "        - LSTAT    % lower status of the population\n",
      "        - MEDV     Median value of owner-occupied homes in $1000's\n",
      "\n",
      "    :Missing Attribute Values: None\n",
      "\n",
      "    :Creator: Harrison, D. and Rubinfeld, D.L.\n",
      "\n",
      "This is a copy of UCI ML housing dataset.\n",
      "http://archive.ics.uci.edu/ml/datasets/Housing\n",
      "\n",
      "\n",
      "This dataset was taken from the StatLib library which is maintained at Carnegie Mellon University.\n",
      "\n",
      "The Boston house-price data of Harrison, D. and Rubinfeld, D.L. 'Hedonic\n",
      "prices and the demand for clean air', J. Environ. Economics & Management,\n",
      "vol.5, 81-102, 1978.   Used in Belsley, Kuh & Welsch, 'Regression diagnostics\n",
      "...', Wiley, 1980.   N.B. Various transformations are used in the table on\n",
      "pages 244-261 of the latter.\n",
      "\n",
      "The Boston house-price data has been used in many machine learning papers that address regression\n",
      "problems.   \n",
      "     \n",
      "**References**\n",
      "\n",
      "   - Belsley, Kuh & Welsch, 'Regression diagnostics: Identifying Influential Data and Sources of Collinearity', Wiley, 1980. 244-261.\n",
      "   - Quinlan,R. (1993). Combining Instance-Based and Model-Based Learning. In Proceedings on the Tenth International Conference of Machine Learning, 236-243, University of Massachusetts, Amherst. Morgan Kaufmann.\n",
      "   - many more! (see http://archive.ics.uci.edu/ml/datasets/Housing)\n",
      "\n"
     ]
    }
   ],
   "source": [
    "print(boston.DESCR)"
   ]
  },
  {
   "cell_type": "markdown",
   "metadata": {},
   "source": [
    "## Model 1: Using in-build function(Linear_Regression)"
   ]
  },
  {
   "cell_type": "code",
   "execution_count": 204,
   "metadata": {},
   "outputs": [],
   "source": [
    "bos['PRICE'] = boston.target\n",
    "\n",
    "X = bos.drop('PRICE', axis = 1)\n",
    "Y = bos['PRICE']"
   ]
  },
  {
   "cell_type": "code",
   "execution_count": 205,
   "metadata": {},
   "outputs": [
    {
     "name": "stdout",
     "output_type": "stream",
     "text": [
      "(506, 13)\n"
     ]
    }
   ],
   "source": [
    "print(X.shape)"
   ]
  },
  {
   "cell_type": "code",
   "execution_count": 206,
   "metadata": {},
   "outputs": [
    {
     "name": "stdout",
     "output_type": "stream",
     "text": [
      "[[0. 0. 0. 0. 0. 0. 0. 0. 0. 0. 0. 0.]]\n"
     ]
    }
   ],
   "source": [
    "import numpy as np\n",
    "X.shape[1]\n",
    "w_cur=np.zeros(shape=(1,X.shape[1]-1))\n",
    "print(w_cur)"
   ]
  },
  {
   "cell_type": "code",
   "execution_count": 207,
   "metadata": {},
   "outputs": [
    {
     "name": "stdout",
     "output_type": "stream",
     "text": [
      "(339, 13)\n",
      "(167, 13)\n",
      "(339,)\n",
      "(167,)\n"
     ]
    }
   ],
   "source": [
    "import sklearn\n",
    "import sklearn.cross_validation\n",
    "X_train, X_test, Y_train, Y_test = sklearn.cross_validation.train_test_split(X, Y, test_size = 0.33, random_state = 5)\n",
    "print(X_train.shape)\n",
    "print(X_test.shape)\n",
    "print(Y_train.shape)\n",
    "print(Y_test.shape)"
   ]
  },
  {
   "cell_type": "code",
   "execution_count": 208,
   "metadata": {},
   "outputs": [],
   "source": [
    "# standardizing data\n",
    "from sklearn import preprocessing\n",
    "scaler = preprocessing.StandardScaler().fit(X_train)\n",
    "x_train = scaler.transform(X_train)\n",
    "x_test=scaler.transform(X_test)"
   ]
  },
  {
   "cell_type": "code",
   "execution_count": 193,
   "metadata": {},
   "outputs": [
    {
     "data": {
      "image/png": "[encoded data removed]",
      "text/plain": [
       "<Figure size 432x288 with 1 Axes>"
      ]
     },
     "metadata": {},
     "output_type": "display_data"
    }
   ],
   "source": [
    "# code source:https://medium.com/@haydar_ai/learning-data-science-day-9-linear-regression-on-boston-housing-dataset-cd62a80775ef\n",
    "from sklearn.linear_model import LinearRegression\n",
    "import matplotlib.pyplot as plt\n",
    "\n",
    "lm = LinearRegression()\n",
    "lm.fit(X_train, Y_train)\n",
    "\n",
    "Y_pred = lm.predict(X_test)\n",
    "\n",
    "plt.scatter(Y_test, Y_pred)\n",
    "plt.xlabel(\"Prices: $Y_i$\")\n",
    "plt.ylabel(\"Predicted prices: $\\hat{Y}_i$\")\n",
    "plt.title(\"Prices vs Predicted prices: $Y_i$ vs $\\hat{Y}_i$\")\n",
    "plt.show()"
   ]
  },
  {
   "cell_type": "code",
   "execution_count": 194,
   "metadata": {},
   "outputs": [
    {
     "name": "stdout",
     "output_type": "stream",
     "text": [
      "28.54136727561835\n"
     ]
    }
   ],
   "source": [
    "print(mean_squared_error(Y_test,Y_pred))"
   ]
  },
  {
   "cell_type": "code",
   "execution_count": 195,
   "metadata": {},
   "outputs": [
    {
     "data": {
      "image/png": "[encoded data removed]",
      "text/plain": [
       "<Figure size 432x288 with 1 Axes>"
      ]
     },
     "metadata": {},
     "output_type": "display_data"
    }
   ],
   "source": [
    "delta_y = Y_test - Y_pred;\n",
    "\n",
    "import seaborn as sns;\n",
    "import numpy as np;\n",
    "sns.set_style('whitegrid')\n",
    "sns.kdeplot(np.array(delta_y), bw=0.5)\n",
    "plt.show()\n"
   ]
  },
  {
   "cell_type": "code",
   "execution_count": 196,
   "metadata": {},
   "outputs": [
    {
     "data": {
      "image/png": "[encoded data removed]",
      "text/plain": [
       "<Figure size 432x288 with 1 Axes>"
      ]
     },
     "metadata": {},
     "output_type": "display_data"
    }
   ],
   "source": [
    "sns.set_style('whitegrid')\n",
    "sns.kdeplot(np.array(Y_pred), bw=0.5)\n",
    "plt.show()"
   ]
  },
  {
   "cell_type": "code",
   "execution_count": 197,
   "metadata": {},
   "outputs": [
    {
     "data": {
      "text/plain": [
       "array([-1.56381297e-01,  3.85490972e-02, -2.50629921e-02,  7.86439684e-01,\n",
       "       -1.29469121e+01,  4.00268857e+00, -1.16023395e-02, -1.36828811e+00,\n",
       "        3.41756915e-01, -1.35148823e-02, -9.88866034e-01,  1.20588215e-02,\n",
       "       -4.72644280e-01])"
      ]
     },
     "execution_count": 197,
     "metadata": {},
     "output_type": "execute_result"
    }
   ],
   "source": [
    "sklearn_w=lm.coef_\n",
    "sklearn_w"
   ]
  },
  {
   "cell_type": "markdown",
   "metadata": {},
   "source": [
    "## Model 2: SGD implementation for Linear Regression"
   ]
  },
  {
   "cell_type": "code",
   "execution_count": 212,
   "metadata": {},
   "outputs": [],
   "source": [
    "boston_data=pd.DataFrame(load_boston().data,columns=load_boston().feature_names)\n",
    "Y=load_boston().target\n",
    "X=load_boston().data\n",
    "x_train,x_test,y_train,y_test=train_test_split(X,Y,test_size=0.3)"
   ]
  },
  {
   "cell_type": "code",
   "execution_count": 213,
   "metadata": {},
   "outputs": [],
   "source": [
    "# standardizing data\n",
    "scaler = preprocessing.StandardScaler().fit(x_train)\n",
    "x_train = scaler.transform(x_train)\n",
    "x_test=scaler.transform(x_test)"
   ]
  },
  {
   "cell_type": "code",
   "execution_count": 214,
   "metadata": {},
   "outputs": [
    {
     "data": {
      "text/html": [
       "<div>\n",
       "<style scoped>\n",
       "    .dataframe tbody tr th:only-of-type {\n",
       "        vertical-align: middle;\n",
       "    }\n",
       "\n",
       "    .dataframe tbody tr th {\n",
       "        vertical-align: top;\n",
       "    }\n",
       "\n",
       "    .dataframe thead th {\n",
       "        text-align: right;\n",
       "    }\n",
       "</style>\n",
       "<table border=\"1\" class=\"dataframe\">\n",
       "  <thead>\n",
       "    <tr style=\"text-align: right;\">\n",
       "      <th></th>\n",
       "      <th>0</th>\n",
       "      <th>1</th>\n",
       "      <th>2</th>\n",
       "      <th>3</th>\n",
       "      <th>4</th>\n",
       "      <th>5</th>\n",
       "      <th>6</th>\n",
       "      <th>7</th>\n",
       "      <th>8</th>\n",
       "      <th>9</th>\n",
       "      <th>10</th>\n",
       "      <th>11</th>\n",
       "      <th>12</th>\n",
       "      <th>price</th>\n",
       "    </tr>\n",
       "  </thead>\n",
       "  <tbody>\n",
       "    <tr>\n",
       "      <th>0</th>\n",
       "      <td>-0.407596</td>\n",
       "      <td>-0.494015</td>\n",
       "      <td>-0.972849</td>\n",
       "      <td>-0.281546</td>\n",
       "      <td>-0.925264</td>\n",
       "      <td>0.491559</td>\n",
       "      <td>-0.454164</td>\n",
       "      <td>0.303647</td>\n",
       "      <td>-0.775754</td>\n",
       "      <td>-0.954770</td>\n",
       "      <td>-0.032021</td>\n",
       "      <td>0.398890</td>\n",
       "      <td>-0.855058</td>\n",
       "      <td>26.6</td>\n",
       "    </tr>\n",
       "    <tr>\n",
       "      <th>1</th>\n",
       "      <td>-0.402053</td>\n",
       "      <td>-0.494015</td>\n",
       "      <td>0.406495</td>\n",
       "      <td>3.551814</td>\n",
       "      <td>-0.038367</td>\n",
       "      <td>-0.421878</td>\n",
       "      <td>0.915750</td>\n",
       "      <td>-0.432608</td>\n",
       "      <td>-0.549825</td>\n",
       "      <td>-0.785916</td>\n",
       "      <td>-1.028037</td>\n",
       "      <td>0.447124</td>\n",
       "      <td>0.731788</td>\n",
       "      <td>21.5</td>\n",
       "    </tr>\n",
       "    <tr>\n",
       "      <th>2</th>\n",
       "      <td>1.465724</td>\n",
       "      <td>-0.494015</td>\n",
       "      <td>1.024266</td>\n",
       "      <td>-0.281546</td>\n",
       "      <td>1.094403</td>\n",
       "      <td>0.227886</td>\n",
       "      <td>1.141041</td>\n",
       "      <td>-0.934064</td>\n",
       "      <td>1.596503</td>\n",
       "      <td>1.484888</td>\n",
       "      <td>0.774277</td>\n",
       "      <td>-3.428882</td>\n",
       "      <td>2.282411</td>\n",
       "      <td>7.2</td>\n",
       "    </tr>\n",
       "  </tbody>\n",
       "</table>\n",
       "</div>"
      ],
      "text/plain": [
       "          0         1         2         3         4         5         6  \\\n",
       "0 -0.407596 -0.494015 -0.972849 -0.281546 -0.925264  0.491559 -0.454164   \n",
       "1 -0.402053 -0.494015  0.406495  3.551814 -0.038367 -0.421878  0.915750   \n",
       "2  1.465724 -0.494015  1.024266 -0.281546  1.094403  0.227886  1.141041   \n",
       "\n",
       "          7         8         9        10        11        12  price  \n",
       "0  0.303647 -0.775754 -0.954770 -0.032021  0.398890 -0.855058   26.6  \n",
       "1 -0.432608 -0.549825 -0.785916 -1.028037  0.447124  0.731788   21.5  \n",
       "2 -0.934064  1.596503  1.484888  0.774277 -3.428882  2.282411    7.2  "
      ]
     },
     "execution_count": 214,
     "metadata": {},
     "output_type": "execute_result"
    }
   ],
   "source": [
    "project_data_train=pd.DataFrame(x_train)\n",
    "project_data_train['price']=y_train\n",
    "project_data_train.head(3)"
   ]
  },
  {
   "cell_type": "code",
   "execution_count": 215,
   "metadata": {},
   "outputs": [],
   "source": [
    "def SGD_linear_Regression(project_data_train, iteration = 1000, learning_rate=0.001, k=10):\n",
    "    \n",
    "    w_weight = np.zeros(shape=(1,project_data_train.shape[1]-1))\n",
    "    b_intercept = 0\n",
    "    n = 1\n",
    "    while n < iteration:\n",
    "        w_old_weight = w_weight\n",
    "        b_old_intercept = b_intercept\n",
    "        temp=project_data_train.sample(k)\n",
    "        y=np.array(temp['price'])\n",
    "        x=np.array(temp.drop('price',axis=1))\n",
    "        \n",
    "        w_delta=np.zeros(shape=(1,project_data_train.shape[1]-1))\n",
    "        b_delta = 0\n",
    "        for i in range(k):\n",
    "            # this is the differencial w.r.t weight and intercept\n",
    "            w_delta+=x[i]*(y[i]-(np.dot(w_old_weight,x[i])+b_old_intercept))*(-2/k)\n",
    "            b_delta+=(y[i]-(np.dot(w_old_weight,x[i])+b_old_intercept))*(-2/k)\n",
    "            \n",
    "        #updating the weight and the intercept\n",
    "        w_weight = w_old_weight -(learning_rate*w_delta)\n",
    "        b_intercept = b_old_intercept - (learning_rate*b_delta)\n",
    "        #decreasing the learning_rate with each iteration\n",
    "        \n",
    "        if (w_old_weight==w_weight).all():\n",
    "            break\n",
    "        else:\n",
    "            n+=1\n",
    "    return w_weight,b_intercept"
   ]
  },
  {
   "cell_type": "code",
   "execution_count": 216,
   "metadata": {},
   "outputs": [],
   "source": [
    "def predict(x,w,b):\n",
    "    y_data_pred = []\n",
    "    for i in range(len(x)):\n",
    "        y=np.asscalar(np.dot(w,x[i])+b)\n",
    "        y_data_pred.append(y)\n",
    "    return np.array(y_data_pred)"
   ]
  },
  {
   "cell_type": "code",
   "execution_count": 217,
   "metadata": {},
   "outputs": [],
   "source": [
    "Y=load_boston().target\n",
    "X=load_boston().data\n",
    "\n",
    "x1_train,x1_test,y1_train,y1_test=train_test_split(X,Y,test_size=0.3)\n",
    "x1_train,x1_cv,y1_train_,y1_cv_=train_test_split(x1_train,y1_train,test_size=0.3)\n",
    "\n",
    "x1_train = scaler.transform(x1_train)\n",
    "x1_cv=scaler.transform(x1_cv)\n",
    "\n",
    "x1_train_=np.array(x1_train)\n",
    "x1_train_data=pd.DataFrame(x1_train)\n",
    "x1_train_data['price']=y1_train_\n",
    "\n",
    "x1_cv_data=pd.DataFrame(x1_cv)\n",
    "x1_cv_data['price']=y1_cv_\n",
    "\n",
    "y1_train_=np.array(y1_train_)\n",
    "y1_cv_=np.array(y1_cv_)"
   ]
  },
  {
   "cell_type": "markdown",
   "metadata": {},
   "source": [
    "### Tuning the hyperparameter: Learning_rate"
   ]
  },
  {
   "cell_type": "code",
   "execution_count": 180,
   "metadata": {},
   "outputs": [],
   "source": [
    "from sklearn.metrics import mean_squared_error\n",
    "r=[0.000001,0.00001,0.0001,0.001,0.01,0.1]\n",
    "train_error_learning_rate=[]\n",
    "cv_error_learning_rate=[]\n",
    "for itr in r:\n",
    "    w,b=SGD_linear_Regression(x1_train_data,learning_rate=itr,iteration=1000)\n",
    "    # print(w.shape,b.shape,x1_train_.shape)\n",
    "    y1_pred_train=predict(x1_train_,w,b)\n",
    "    train_error_learning_rate.append(mean_squared_error(y1_train_,y1_pred_train))\n",
    "    w,b=SGD_linear_Regression(x1_cv_data,learning_rate=itr,iteration=1000)\n",
    "    y1_pred_cv=predict(x1_cv,w,b)\n",
    "    cv_error_learning_rate.append(mean_squared_error(y1_cv_,y1_pred_cv))"
   ]
  },
  {
   "cell_type": "code",
   "execution_count": 181,
   "metadata": {},
   "outputs": [
    {
     "data": {
      "image/png": "[encoded data removed]",
      "text/plain": [
       "<Figure size 432x288 with 1 Axes>"
      ]
     },
     "metadata": {},
     "output_type": "display_data"
    }
   ],
   "source": [
    "  # plotting obtained values\n",
    "import math\n",
    "import matplotlib.pyplot as plt \n",
    "\n",
    "r=[0.000001,0.00001,0.0001,0.001,0.01,0.1]\n",
    "x1=[math.log10(i) for i in r]\n",
    "plt.plot(x1,train_error_learning_rate,label='train MSE')\n",
    "plt.plot(x1,cv_error_learning_rate,label='CV MSE')\n",
    "plt.scatter(x1,train_error_learning_rate)\n",
    "plt.scatter(x1,cv_error_learning_rate)\n",
    "plt.legend()\n",
    "plt.xlabel('log of learning rate')\n",
    "plt.ylabel('Mean Squared Error')\n",
    "plt.title('log(learning rate) vs MSE')\n",
    "plt.grid()\n",
    "plt.show()"
   ]
  },
  {
   "cell_type": "markdown",
   "metadata": {},
   "source": [
    "1) Clearly, from the above plot the optimal learning_rate is at 0.001"
   ]
  },
  {
   "cell_type": "markdown",
   "metadata": {},
   "source": [
    "### Tuning the hyperparameter: Batch_size"
   ]
  },
  {
   "cell_type": "code",
   "execution_count": 182,
   "metadata": {},
   "outputs": [],
   "source": [
    "from sklearn.metrics import mean_squared_error\n",
    "r=[5,10,15,20,25,30]\n",
    "train_error_batch_size=[]\n",
    "cv_error_batch_size=[]\n",
    "for i in r:\n",
    "    w_train,b_train=SGD_linear_Regression(x1_train_data,learning_rate=0.001,iteration=1000,k=i)\n",
    "    # print(w.shape,b.shape,x1_train_.shape)\n",
    "    y1_pred_train=predict(x1_train_,w_train,b_train)\n",
    "    train_error_batch_size.append(mean_squared_error(y1_train_,y1_pred_train))\n",
    "    w_cv,b_cv=SGD_linear_Regression(x1_cv_data,learning_rate=0.001,iteration=1000,k=i)\n",
    "    y1_pred_cv=predict(x1_cv,w_cv,b_cv)\n",
    "    cv_error_batch_size.append(mean_squared_error(y1_cv_,y1_pred_cv))"
   ]
  },
  {
   "cell_type": "code",
   "execution_count": 136,
   "metadata": {},
   "outputs": [
    {
     "data": {
      "image/png": "[encoded data removed]",
      "text/plain": [
       "<Figure size 432x288 with 1 Axes>"
      ]
     },
     "metadata": {},
     "output_type": "display_data"
    }
   ],
   "source": [
    "  # plotting obtained values\n",
    "import math\n",
    "import matplotlib.pyplot as plt \n",
    "\n",
    "\n",
    "x1=[5,10,15,20,25,30]\n",
    "plt.plot(x1,train_error_batch_size,label='train MSE')\n",
    "plt.plot(x1,cv_error_batch_size,label='CV MSE')\n",
    "plt.scatter(x1,train_error_batch_size)\n",
    "plt.scatter(x1,cv_error_batch_size)\n",
    "plt.legend()\n",
    "plt.xlabel('batch_size')\n",
    "plt.ylabel('Mean Squared Error')\n",
    "plt.title('Batch_size vs MSE')\n",
    "plt.grid()\n",
    "plt.show()"
   ]
  },
  {
   "cell_type": "markdown",
   "metadata": {},
   "source": [
    "1) clearly from the above plot the optimal batch_size is 10"
   ]
  },
  {
   "cell_type": "markdown",
   "metadata": {},
   "source": [
    "### Linear Regression using  optimal hyperparameters"
   ]
  },
  {
   "cell_type": "code",
   "execution_count": 218,
   "metadata": {},
   "outputs": [
    {
     "data": {
      "image/png": "[encoded data removed]",
      "text/plain": [
       "<Figure size 432x288 with 1 Axes>"
      ]
     },
     "metadata": {},
     "output_type": "display_data"
    }
   ],
   "source": [
    "w_custom,b_custom = SGD_linear_Regression(project_data_train,iteration = 1000, learning_rate=0.001, k=10)\n",
    "y_pred=predict(x_test,w_custom,b_custom)\n",
    "plt.scatter(y_test,y_pred)\n",
    "plt.grid()\n",
    "plt.title('scatter plot between actual y and predicted y')\n",
    "plt.xlabel('actual y')\n",
    "plt.ylabel('predicted y')\n",
    "plt.show()  "
   ]
  },
  {
   "cell_type": "code",
   "execution_count": 219,
   "metadata": {},
   "outputs": [
    {
     "name": "stdout",
     "output_type": "stream",
     "text": [
      "22.31435625769158\n"
     ]
    }
   ],
   "source": [
    "\n",
    "print(mean_squared_error(y_test,y_pred))"
   ]
  },
  {
   "cell_type": "markdown",
   "metadata": {},
   "source": [
    "## Comparing the models"
   ]
  },
  {
   "cell_type": "code",
   "execution_count": 220,
   "metadata": {},
   "outputs": [
    {
     "name": "stdout",
     "output_type": "stream",
     "text": [
      "[[-0.66659603  0.44390491 -0.64203021  0.88909249 -0.71406027  3.08045943\n",
      "  -0.17288506 -1.34813209  0.5170901  -0.35775856 -1.6557073   0.7259176\n",
      "  -3.17179154]]\n",
      "[-1.56381297e-01  3.85490972e-02 -2.50629921e-02  7.86439684e-01\n",
      " -1.29469121e+01  4.00268857e+00 -1.16023395e-02 -1.36828811e+00\n",
      "  3.41756915e-01 -1.35148823e-02 -9.88866034e-01  1.20588215e-02\n",
      " -4.72644280e-01]\n"
     ]
    }
   ],
   "source": [
    "print(w)\n",
    "print(sklearn_w)"
   ]
  },
  {
   "cell_type": "code",
   "execution_count": 225,
   "metadata": {},
   "outputs": [
    {
     "name": "stdout",
     "output_type": "stream",
     "text": [
      "\n",
      "+---------+---------------------------------------------------------------------------+-------------------+\n",
      "|  Model  |                                   Weight                                  |        MSE        |\n",
      "+---------+---------------------------------------------------------------------------+-------------------+\n",
      "| sklearn |      [-1.56381297e-01  3.85490972e-02 -2.50629921e-02  7.86439684e-01     | 28.54136727561835 |\n",
      "|         |       -1.29469121e+01  4.00268857e+00 -1.16023395e-02 -1.36828811e+00     |                   |\n",
      "|         |        3.41756915e-01 -1.35148823e-02 -9.88866034e-01  1.20588215e-02     |                   |\n",
      "|         |                              -4.72644280e-01]                             |                   |\n",
      "|  custom | [[-0.67537066  0.79096631 -0.28769775  0.98799505 -0.68028095  3.25953685 | 22.31435625769158 |\n",
      "|         |    0.21443787 -1.48595301  0.42857991 -0.32513883 -1.93560932  0.76526896 |                   |\n",
      "|         |                                -3.23196036]]                              |                   |\n",
      "+---------+---------------------------------------------------------------------------+-------------------+\n"
     ]
    }
   ],
   "source": [
    "from prettytable import PrettyTable\n",
    "p = print()\n",
    "x=PrettyTable()\n",
    "x.field_names=['Model','Weight','MSE']\n",
    "x.add_row(['sklearn',sklearn_w,mean_squared_error(Y_test,Y_pred)])\n",
    "x.add_row(['custom',w_custom,mean_squared_error(y_test,y_pred)])\n",
    "print(x)"
   ]
  },
  {
   "cell_type": "markdown",
   "metadata": {},
   "source": [
    "1) Clearly, From the above both the models obtained are almost similar.\n",
    "\n",
    "2) The tuning of both the hyperparameters learning rate and batch size for the SGD could have resulted in a better MSE value."
   ]
  }
 ],
 "metadata": {
  "kernelspec": {
   "display_name": "Python 3",
   "language": "python",
   "name": "python3"
  },
  "language_info": {
   "codemirror_mode": {
    "name": "ipython",
    "version": 3
   },
   "file_extension": ".py",
   "mimetype": "text/x-python",
   "name": "python",
   "nbconvert_exporter": "python",
   "pygments_lexer": "ipython3",
   "version": "3.6.5"
  }
 },
 "nbformat": 4,
 "nbformat_minor": 2
}
